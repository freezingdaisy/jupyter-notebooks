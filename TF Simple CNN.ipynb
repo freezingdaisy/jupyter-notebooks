{
 "cells": [
  {
   "cell_type": "markdown",
   "metadata": {},
   "source": [
    "# TF Simple CNN\n",
    "\n",
    "\\- [Saurabh Mathur](https://saurabhmathur96.github.io/)"
   ]
  },
  {
   "cell_type": "markdown",
   "metadata": {},
   "source": [
    "The aim of this experiment is to build a convolutional neural network to recognize handwritten digits."
   ]
  },
  {
   "cell_type": "code",
   "execution_count": 1,
   "metadata": {
    "collapsed": true
   },
   "outputs": [],
   "source": [
    "import tensorflow as tf\n",
    "from sklearn.datasets import fetch_mldata\n",
    "from sklearn.cross_validation import train_test_split\n",
    "from sklearn.preprocessing import label_binarize\n",
    "import numpy as np\n",
    "import matplotlib.pyplot as plt\n",
    "import seaborn as sns\n",
    "sns.set()\n",
    "%matplotlib inline"
   ]
  },
  {
   "cell_type": "code",
   "execution_count": 2,
   "metadata": {
    "collapsed": true
   },
   "outputs": [],
   "source": [
    "mnist = fetch_mldata(\"MNIST original\", data_home=\"/home/saurabh/Documents/python/digits/data\")\n",
    "\n",
    "X_train, X_test, y_train, y_test = train_test_split(mnist.data, label_binarize(mnist.target, classes = range(10)))"
   ]
  },
  {
   "cell_type": "code",
   "execution_count": 3,
   "metadata": {
    "collapsed": false
   },
   "outputs": [
    {
     "name": "stdout",
     "output_type": "stream",
     "text": [
      "Shape of X : (784,)\n",
      "Shape of y : (10,)\n"
     ]
    }
   ],
   "source": [
    "print ('Shape of X : {}'.format(X_train[0].shape))\n",
    "print ('Shape of y : {}'.format(y_train[0].shape))"
   ]
  },
  {
   "cell_type": "markdown",
   "metadata": {},
   "source": [
    "## Build CNN of 5 layers ( conv, bias, relu, pool, out )"
   ]
  },
  {
   "cell_type": "code",
   "execution_count": 9,
   "metadata": {
    "collapsed": true
   },
   "outputs": [],
   "source": [
    "n_input = 784\n",
    "n_output = 10\n",
    "stddev = 0.1\n",
    "\n",
    "X = tf.placeholder(tf.float32, [None, n_input])\n",
    "y = tf.placeholder(tf.float32, [None, n_output])\n",
    "\n",
    "\n",
    "weights = {\n",
    "    \"wc1\": tf.Variable(tf.random_normal([3, 3, 1, 64], stddev = stddev)),\n",
    "    \"wd1\": tf.Variable(tf.random_normal([14*14*64, n_output], stddev = stddev))\n",
    "}\n",
    "\n",
    "biases = {\n",
    "    \"bc1\": tf.Variable(tf.random_normal([64], stddev = stddev)),\n",
    "    \"bd1\": tf.Variable(tf.random_normal([n_output], stddev = stddev))\n",
    "}\n",
    "\n",
    "def conv_net(X, weights, biases):\n",
    "    X_reshaped = tf.reshape(X, shape = [-1, 28, 28, 1])\n",
    "    conv1 = tf.nn.conv2d(X_reshaped, weights[\"wc1\"],\n",
    "                        strides = [1, 1, 1, 1], padding = \"SAME\")\n",
    "    bias_add = tf.nn.bias_add(conv1, biases[\"bc1\"])\n",
    "    relu = tf.nn.relu(bias_add)\n",
    "    pool = tf.nn.max_pool(relu, ksize = [1, 2, 2, 1],\n",
    "                         strides = [1, 2, 2, 1], padding = \"SAME\")\n",
    "    one_hot = tf.reshape(pool, [-1, weights[\"wd1\"].get_shape().as_list()[0]])\n",
    "    out = tf.add(tf.matmul(one_hot, weights[\"wd1\"]), biases[\"bd1\"])\n",
    "    \n",
    "    return out"
   ]
  },
  {
   "cell_type": "markdown",
   "metadata": {},
   "source": [
    "## Build Model"
   ]
  },
  {
   "cell_type": "code",
   "execution_count": 10,
   "metadata": {
    "collapsed": false
   },
   "outputs": [],
   "source": [
    "learning_rate = 0.001\n",
    "\n",
    "prediction = conv_net(X, weights, biases)\n",
    "cost = tf.reduce_mean(tf.nn.softmax_cross_entropy_with_logits(prediction, y))\n",
    "train_step = tf.train.AdamOptimizer(learning_rate = learning_rate).minimize(cost)\n",
    "correct = tf.equal(tf.argmax(prediction, 1), tf.argmax(y, 1))\n",
    "accuracy = tf.reduce_mean(tf.cast(correct, tf.float32))"
   ]
  },
  {
   "cell_type": "code",
   "execution_count": 15,
   "metadata": {
    "collapsed": false
   },
   "outputs": [
    {
     "name": "stdout",
     "output_type": "stream",
     "text": [
      "Epoch 1/5. Cost 9.77. Accuracy 92.5 %.\n",
      "Testing Accuracy 95.0 %.\n",
      "Epoch 2/5. Cost 1.29. Accuracy 98.8 %.\n",
      "Testing Accuracy 97.5 %.\n",
      "Epoch 3/5. Cost 0.71. Accuracy 97.5 %.\n",
      "Testing Accuracy 95.0 %.\n",
      "Epoch 4/5. Cost 0.44. Accuracy 97.5 %.\n",
      "Testing Accuracy 95.0 %.\n",
      "Epoch 5/5. Cost 0.29. Accuracy 98.8 %.\n",
      "Testing Accuracy 96.2 %.\n"
     ]
    }
   ],
   "source": [
    "n_epochs = 5\n",
    "batch_size = 80\n",
    "n_batches = int(X_train.shape[0] / batch_size)\n",
    "\n",
    "np.random.seed(1)\n",
    "\n",
    "init = tf.initialize_all_variables()\n",
    "\n",
    "with tf.Session() as sess:\n",
    "    sess.run(init)\n",
    "    for epoch in range(n_epochs):\n",
    "        avg_cost = 0.0\n",
    "        for _ in range(n_batches):\n",
    "            indices = np.random.randint(X_train.shape[0], size=batch_size)\n",
    "            sess.run(train_step, { X: X_train[indices], y: y_train[indices]})\n",
    "            avg_cost += sess.run(cost, { X: X_train[indices], y: y_train[indices]}) / float(n_batches)\n",
    "    \n",
    "        indices = np.random.randint(X_train.shape[0], size=batch_size)\n",
    "        score = sess.run(accuracy, { X: X_train[indices], y: y_train[indices]})\n",
    "        print (\"Epoch {0}/{1}. Cost {2:0.2f}. Accuracy {3:0.1f} %.\".format(epoch + 1, n_epochs, avg_cost, 100 * score))\n",
    "        indices = np.random.randint(X_test.shape[0], size=batch_size)\n",
    "        score = sess.run(accuracy, { X: X_test[indices], y: y_test[indices]})\n",
    "        print (\"Testing Accuracy {0:0.1f} %.\".format(100 * score))"
   ]
  },
  {
   "cell_type": "code",
   "execution_count": 16,
   "metadata": {
    "collapsed": false
   },
   "outputs": [
    {
     "data": {
      "text/plain": [
       "(0, 100)"
      ]
     },
     "execution_count": 16,
     "metadata": {},
     "output_type": "execute_result"
    },
    {
     "data": {
      "image/png": "[encoded data removed]",
      "text/plain": [
       "<matplotlib.figure.Figure at 0x7f1655a23790>"
      ]
     },
     "metadata": {},
     "output_type": "display_data"
    }
   ],
   "source": [
    "points = {\n",
    "    \"x\": range(1, 6),\n",
    "    \"y\": [92.5, 98.8, 97.5, 97.5, 98.8]\n",
    "}\n",
    "plt.plot(points[\"x\"], points[\"y\"])\n",
    "plt.xlabel(\"Epochs\")\n",
    "plt.ylabel(\"Training Accuracy %\")\n",
    "plt.ylim((0, 100))"
   ]
  },
  {
   "cell_type": "code",
   "execution_count": 17,
   "metadata": {
    "collapsed": false
   },
   "outputs": [
    {
     "data": {
      "text/plain": [
       "(0, 2)"
      ]
     },
     "execution_count": 17,
     "metadata": {},
     "output_type": "execute_result"
    },
    {
     "data": {
      "image/png": "[encoded data removed]",
      "text/plain": [
       "<matplotlib.figure.Figure at 0x7f1658ebff90>"
      ]
     },
     "metadata": {},
     "output_type": "display_data"
    }
   ],
   "source": [
    "\n",
    "points = {\n",
    "    \"x\": range(1, 6),\n",
    "    \"y\": [9.77, 1.29, 0.71, 0.44, 0.29]\n",
    "}\n",
    "\n",
    "plt.plot(points[\"x\"], points[\"y\"])\n",
    "plt.xlabel(\"Epochs\")\n",
    "plt.ylabel(\"Cost\")\n",
    "plt.ylim((0, 2))"
   ]
  }
 ],
 "metadata": {
  "kernelspec": {
   "display_name": "Python 2",
   "language": "python",
   "name": "python2"
  },
  "language_info": {
   "codemirror_mode": {
    "name": "ipython",
    "version": 2
   },
   "file_extension": ".py",
   "mimetype": "text/x-python",
   "name": "python",
   "nbconvert_exporter": "python",
   "pygments_lexer": "ipython2",
   "version": "2.7.12"
  }
 },
 "nbformat": 4,
 "nbformat_minor": 0
}
