{
 "cells": [
  {
   "cell_type": "markdown",
   "metadata": {},
   "source": [
    "# TF Simple MLP\n",
    "\n",
    "\\- [Saurabh Mathur](https://saurabhmathur96.github.io/)"
   ]
  },
  {
   "cell_type": "markdown",
   "metadata": {},
   "source": [
    "The aim of this experiment is to build a Multilayered Perceptron with 2 hidden layers to recognize handwritten digits."
   ]
  },
  {
   "cell_type": "code",
   "execution_count": 19,
   "metadata": {
    "collapsed": true
   },
   "outputs": [],
   "source": [
    "import tensorflow as tf\n",
    "from sklearn.datasets import fetch_mldata\n",
    "from sklearn.cross_validation import train_test_split\n",
    "from sklearn.preprocessing import label_binarize\n",
    "import numpy as np\n",
    "import matplotlib.pyplot as plt\n",
    "import seaborn as sns\n",
    "sns.set()\n",
    "%matplotlib inline"
   ]
  },
  {
   "cell_type": "code",
   "execution_count": 20,
   "metadata": {
    "collapsed": true
   },
   "outputs": [],
   "source": [
    "mnist = fetch_mldata(\"MNIST original\", data_home=\"/home/saurabh/Documents/python/digits/data\")\n",
    "\n",
    "X_train, X_test, y_train, y_test = train_test_split(mnist.data, label_binarize(mnist.target, classes = range(10)))"
   ]
  },
  {
   "cell_type": "code",
   "execution_count": 21,
   "metadata": {
    "collapsed": false
   },
   "outputs": [
    {
     "name": "stdout",
     "output_type": "stream",
     "text": [
      "Shape of X : (784,)\n",
      "Shape of y : (10,)\n"
     ]
    }
   ],
   "source": [
    "print ('Shape of X : {}'.format(X_train[0].shape))\n",
    "print ('Shape of y : {}'.format(y_train[0].shape))"
   ]
  },
  {
   "cell_type": "code",
   "execution_count": null,
   "metadata": {
    "collapsed": true
   },
   "outputs": [],
   "source": []
  },
  {
   "cell_type": "markdown",
   "metadata": {},
   "source": [
    "## Build Network of 2 hidden layers"
   ]
  },
  {
   "cell_type": "code",
   "execution_count": 28,
   "metadata": {
    "collapsed": true
   },
   "outputs": [],
   "source": [
    "n_hidden1 = 256\n",
    "n_hidden2 = 128\n",
    "n_input = 784\n",
    "n_classes = 10\n",
    "\n",
    "X = tf.placeholder(tf.float32, [None, n_input])\n",
    "y = tf.placeholder(tf.float32, [None, n_classes])\n",
    "\n",
    "def multilayer_perceptron(X, weights, biases):\n",
    "    layer1 = tf.nn.sigmoid(tf.add(tf.matmul(X, weights[\"h1\"]), biases[\"b1\"]))\n",
    "    layer2 = tf.nn.sigmoid(tf.add(tf.matmul(layer1, weights[\"h2\"]), biases[\"b2\"]))\n",
    "    return tf.nn.sigmoid(tf.add(tf.matmul(layer2, weights[\"out\"]), biases[\"out\"]))\n",
    "\n",
    "stddev = 0.1\n",
    "\n",
    "weights = {\n",
    "    \"h1\": tf.Variable(tf.random_normal([n_input, n_hidden1], stddev=stddev)),\n",
    "    \"h2\": tf.Variable(tf.random_normal([n_hidden1, n_hidden2], stddev=stddev)),\n",
    "    \"out\": tf.Variable(tf.random_normal([n_hidden2, n_classes], stddev=stddev))\n",
    "}\n",
    "\n",
    "biases = {\n",
    "    \"b1\": tf.Variable(tf.random_normal([n_hidden1])),\n",
    "    \"b2\": tf.Variable(tf.random_normal([n_hidden2])),\n",
    "    \"out\": tf.Variable(tf.random_normal([n_classes]))\n",
    "}"
   ]
  },
  {
   "cell_type": "markdown",
   "metadata": {},
   "source": [
    "## Build model"
   ]
  },
  {
   "cell_type": "code",
   "execution_count": 29,
   "metadata": {
    "collapsed": false
   },
   "outputs": [],
   "source": [
    "learning_rate = 0.001\n",
    "\n",
    "prediction = multilayer_perceptron(X, weights, biases)\n",
    "\n",
    "cost = tf.reduce_mean(tf.nn.softmax_cross_entropy_with_logits(prediction, y))\n",
    "train_step = tf.train.AdamOptimizer(learning_rate = learning_rate).minimize(cost)\n",
    "\n",
    "correct = tf.equal(tf.argmax(prediction, 1), tf.argmax(y, 1))\n",
    "accuracy = tf.reduce_mean(tf.cast(correct, tf.float32))"
   ]
  },
  {
   "cell_type": "code",
   "execution_count": 30,
   "metadata": {
    "collapsed": false
   },
   "outputs": [
    {
     "name": "stdout",
     "output_type": "stream",
     "text": [
      "Epoch 1/10. Cost 1.73. Accuracy 90.0 %.\n",
      "Epoch 2/10. Cost 1.57. Accuracy 90.0 %.\n",
      "Epoch 3/10. Cost 1.55. Accuracy 93.0 %.\n",
      "Epoch 4/10. Cost 1.53. Accuracy 92.0 %.\n",
      "Epoch 5/10. Cost 1.53. Accuracy 95.0 %.\n",
      "Epoch 6/10. Cost 1.52. Accuracy 88.0 %.\n",
      "Epoch 7/10. Cost 1.52. Accuracy 92.0 %.\n",
      "Epoch 8/10. Cost 1.52. Accuracy 92.0 %.\n",
      "Epoch 9/10. Cost 1.51. Accuracy 95.0 %.\n",
      "Epoch 10/10. Cost 1.51. Accuracy 91.0 %.\n",
      "Testing Accuracy 93.5 %.\n"
     ]
    }
   ],
   "source": [
    "n_epochs = 10\n",
    "batch_size = 100\n",
    "n_batches = int(X_train.shape[0] / batch_size)\n",
    "\n",
    "np.random.seed(1)\n",
    "\n",
    "init = tf.initialize_all_variables()\n",
    "\n",
    "with tf.Session() as sess:\n",
    "    sess.run(init)\n",
    "    for epoch in range(n_epochs):\n",
    "        avg_cost = 0.0\n",
    "        for _ in range(n_batches):\n",
    "            indices = np.random.randint(X_train.shape[0], size=batch_size)\n",
    "            sess.run(train_step, { X: X_train[indices], y: y_train[indices]})\n",
    "            avg_cost += sess.run(cost, { X: X_train[indices], y: y_train[indices]}) / float(n_batches)\n",
    "    \n",
    "        indices = np.random.randint(X_train.shape[0], size=batch_size)\n",
    "        score = sess.run(accuracy, { X: X_train[indices], y: y_train[indices]})\n",
    "        print (\"Epoch {0}/{1}. Cost {2:0.2f}. Accuracy {3:0.1f} %.\".format(epoch + 1, n_epochs, avg_cost, 100 * score))\n",
    "    score = sess.run(accuracy, { X: X_test, y: y_test})\n",
    "    print (\"Testing Accuracy {0:0.1f} %.\".format(100 * score))"
   ]
  },
  {
   "cell_type": "code",
   "execution_count": 31,
   "metadata": {
    "collapsed": false
   },
   "outputs": [
    {
     "data": {
      "text/plain": [
       "(0, 100)"
      ]
     },
     "execution_count": 31,
     "metadata": {},
     "output_type": "execute_result"
    },
    {
     "data": {
      "image/png": "[encoded data removed]",
      "text/plain": [
       "<matplotlib.figure.Figure at 0x7faa13516610>"
      ]
     },
     "metadata": {},
     "output_type": "display_data"
    }
   ],
   "source": [
    "points = {\n",
    "    \"x\": range(1, 11),\n",
    "    \"y\": [90.0, 90.0, 93.0, 92.0, 95.0, 88.0, 92.0, 92.0, 95.0, 91.0]\n",
    "}\n",
    "plt.plot(points[\"x\"], points[\"y\"])\n",
    "plt.xlabel(\"Epochs\")\n",
    "plt.ylabel(\"Training Accuracy %\")\n",
    "plt.ylim((0, 100))"
   ]
  },
  {
   "cell_type": "code",
   "execution_count": 37,
   "metadata": {
    "collapsed": false
   },
   "outputs": [
    {
     "data": {
      "text/plain": [
       "(0, 2)"
      ]
     },
     "execution_count": 37,
     "metadata": {},
     "output_type": "execute_result"
    },
    {
     "data": {
      "image/png": "[encoded data removed]",
      "text/plain": [
       "<matplotlib.figure.Figure at 0x7ff3ea51cf90>"
      ]
     },
     "metadata": {},
     "output_type": "display_data"
    }
   ],
   "source": [
    "points = {\n",
    "    \"x\": range(1, 11),\n",
    "    \"y\": [1.73, 1.57, 1.55, 1.53, 1.53, 1.52, 1.52, 1.52, 1.51, 1.51]\n",
    "}\n",
    "\n",
    "plt.plot(points[\"x\"], points[\"y\"])\n",
    "plt.xlabel(\"Epochs\")\n",
    "plt.ylabel(\"Cost\")\n",
    "plt.ylim((0, 2))"
   ]
  }
 ],
 "metadata": {
  "kernelspec": {
   "display_name": "Python 2",
   "language": "python",
   "name": "python2"
  },
  "language_info": {
   "codemirror_mode": {
    "name": "ipython",
    "version": 2
   },
   "file_extension": ".py",
   "mimetype": "text/x-python",
   "name": "python",
   "nbconvert_exporter": "python",
   "pygments_lexer": "ipython2",
   "version": "2.7.12"
  }
 },
 "nbformat": 4,
 "nbformat_minor": 0
}
